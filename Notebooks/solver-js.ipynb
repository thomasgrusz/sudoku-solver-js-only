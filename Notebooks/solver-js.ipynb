{
 "cells": [
  {
   "cell_type": "code",
   "execution_count": 1,
   "id": "9a28a2f4-da07-4b79-be91-24e01e7dac02",
   "metadata": {},
   "outputs": [],
   "source": [
    "// # SUDOKU Solver\n",
    "// ---- Board Setup ----\n",
    "// A sudoku puzzle consists of a 9x9 grid of boxes, filled with digits from 1 - 9.\n",
    "\n",
    "// We label 3 distinct entities in the board.\n",
    "\n",
    "// boxes - the individual boxes in the board(9x9=81)\n",
    "// units - rows, columns and the subsquares(3 x 9=27)\n",
    "// peers - a box has peers in a row a column and a subsquare(8 + 6 + 6=20)"
   ]
  },
  {
   "cell_type": "code",
   "execution_count": 2,
   "id": "ee5679c3-b16f-4602-9d49-8b01b6d09d76",
   "metadata": {},
   "outputs": [],
   "source": [
    "// ---- Encoding the board ----\n",
    "// Rows will be labeled from 'A-I'\n",
    "// Columns will be labeled from '1-9'\n",
    "\n",
    "// A board will be encoded in two ways.\n",
    "// 1. a long string with box contents in a series from left to right, top to bottom\n",
    "// 2. a dictionary with box labels as keys, i.e. 'A1' and the box contents as values\n",
    "\n",
    "// For both encodings, the values for empty boxes is a '.' (period)."
   ]
  },
  {
   "cell_type": "code",
   "execution_count": 3,
   "id": "300e8b9a-e0bb-4504-9def-53e5a1308cfe",
   "metadata": {},
   "outputs": [],
   "source": [
    "let rows = 'ABCDEFGHI';\n",
    "let cols = '123456789';"
   ]
  },
  {
   "cell_type": "code",
   "execution_count": 4,
   "id": "f71be07a-c371-411c-bbad-f18270b64c8a",
   "metadata": {},
   "outputs": [],
   "source": [
    "// cross() helper function creates all combinations of letters in 2 strings\n",
    "//function cross(a, b) {\n",
    "//  let result = [];\n",
    "//  for (let r of a) {\n",
    "//    for (let c of b) {\n",
    "//      result.push(r + c);\n",
    "//    }\n",
    "//  }\n",
    "//  return result;\n",
    "//}"
   ]
  },
  {
   "cell_type": "code",
   "execution_count": 5,
   "id": "4ca26890-1a89-4609-ad1d-04c2a5a0e0c2",
   "metadata": {},
   "outputs": [],
   "source": [
    "// This is a more concise version of the cross helper function\n",
    "function cross(a, b) {\n",
    "  return [...a].flatMap(r => [...b].map(c => r + c));\n",
    "}"
   ]
  },
  {
   "cell_type": "code",
   "execution_count": 6,
   "id": "bb636a9c-f7c7-4c58-88ca-3101845f00a1",
   "metadata": {},
   "outputs": [],
   "source": [
    "const boxes = cross(rows, cols);"
   ]
  },
  {
   "cell_type": "code",
   "execution_count": 7,
   "id": "f4c6b433-2f9b-4e76-bd47-f7fc273b90f9",
   "metadata": {
    "jupyter": {
     "source_hidden": true
    },
    "scrolled": true
   },
   "outputs": [],
   "source": [
    "const row_units = rows.split('').map(r => cross(r, cols));"
   ]
  },
  {
   "cell_type": "code",
   "execution_count": 8,
   "id": "c3fd9e28-d2e5-4f8d-b372-04a959549604",
   "metadata": {},
   "outputs": [],
   "source": [
    "const column_units = cols.split('').map(c => cross(rows, c));"
   ]
  },
  {
   "cell_type": "code",
   "execution_count": 9,
   "id": "85573d40-a4d7-4e77-be77-c3251a838d84",
   "metadata": {
    "scrolled": true
   },
   "outputs": [],
   "source": [
    "const square_units = ['ABC', 'DEF', 'GHI'].flatMap(rs => ['123', '456', '789'].map(cs => cross(rs, cs)));"
   ]
  },
  {
   "cell_type": "code",
   "execution_count": 10,
   "id": "8efe2536-9504-4907-bd62-12cc6f119677",
   "metadata": {},
   "outputs": [],
   "source": [
    "const unitlist = row_units.concat(column_units, square_units);"
   ]
  },
  {
   "cell_type": "code",
   "execution_count": 11,
   "id": "e057a0a9-fc37-4fc8-8948-b669ce6a454c",
   "metadata": {},
   "outputs": [
    {
     "data": {
      "text/plain": [
       "[\n",
       "  [\n",
       "    'I1', 'I2', 'I3',\n",
       "    'I4', 'I5', 'I6',\n",
       "    'I7', 'I8', 'I9'\n",
       "  ],\n",
       "  [\n",
       "    'A9', 'B9', 'C9',\n",
       "    'D9', 'E9', 'F9',\n",
       "    'G9', 'H9', 'I9'\n",
       "  ],\n",
       "  [\n",
       "    'G7', 'G8', 'G9',\n",
       "    'H7', 'H8', 'H9',\n",
       "    'I7', 'I8', 'I9'\n",
       "  ]\n",
       "]"
      ]
     },
     "execution_count": 11,
     "metadata": {},
     "output_type": "execute_result"
    }
   ],
   "source": [
    "const units = {};\n",
    "for (let s of boxes) {\n",
    "  const x = [];\n",
    "  for (let u of unitlist) {\n",
    "    if (u.includes(s)) {\n",
    "      x.push(u);\n",
    "    }\n",
    "  }\n",
    "  units[s] = x;\n",
    "}"
   ]
  },
  {
   "cell_type": "code",
   "execution_count": 12,
   "id": "e40be1bb-2e12-4f5b-b2f4-75e2ea1e926b",
   "metadata": {},
   "outputs": [
    {
     "data": {
      "text/plain": [
       "Set(20) {\n",
       "  'I1',\n",
       "  'I2',\n",
       "  'I3',\n",
       "  'I4',\n",
       "  'I5',\n",
       "  'I6',\n",
       "  'I7',\n",
       "  'I8',\n",
       "  'A9',\n",
       "  'B9',\n",
       "  'C9',\n",
       "  'D9',\n",
       "  'E9',\n",
       "  'F9',\n",
       "  'G9',\n",
       "  'H9',\n",
       "  'G7',\n",
       "  'G8',\n",
       "  'H7',\n",
       "  'H8'\n",
       "}"
      ]
     },
     "execution_count": 12,
     "metadata": {},
     "output_type": "execute_result"
    }
   ],
   "source": [
    "const peers = {};\n",
    "for (let s of boxes) {\n",
    "  peers[s] = new Set(\n",
    "    [].concat(...units[s]).filter(item => item !== s)\n",
    "  );\n",
    "}"
   ]
  },
  {
   "cell_type": "code",
   "execution_count": 13,
   "id": "d39f9a13-0dd6-4a03-a509-e1d5642a4bac",
   "metadata": {},
   "outputs": [],
   "source": [
    "// Convert string representation of puzzle into dictionary\n",
    "function gridValues(grid) {\n",
    "    const values = [];\n",
    "    const allDigits = '123456789';\n",
    "\n",
    "    for (let c of grid) {\n",
    "        if (c === '.') {\n",
    "            values.push(allDigits);\n",
    "        } else if (allDigits.includes(c)) {\n",
    "          values.push(c);\n",
    "        }\n",
    "    }\n",
    "    if (values.length !== 81) {\n",
    "        throw new Error('Input grid does not have 81 characters!');\n",
    "    }\n",
    "    const result = {};\n",
    "    for (let i = 0; i < boxes.length; i++) {\n",
    "        result[boxes[i]] = values[i];\n",
    "    }\n",
    "    return result;\n",
    "}"
   ]
  },
  {
   "cell_type": "code",
   "execution_count": 14,
   "id": "8b32468d-aa09-4c1a-b762-a4a7d5b7c611",
   "metadata": {},
   "outputs": [],
   "source": [
    "// ---- Display 2D grid ----\n",
    "// Input: dictionary\n",
    "function displayDot(values) {\n",
    "  const line = '------+------+------';\n",
    "  for (let r of rows) {\n",
    "    let rowOutput = '';\n",
    "    for (let c of cols) {\n",
    "      const value = values[r + c].length === 1 ? values[r + c] : '.';\n",
    "      rowOutput += value + ' ' + (c === '3' || c === '6' ? '|' : '');\n",
    "    }\n",
    "    console.log(rowOutput);\n",
    "    if (r === 'C' || r === 'F') {\n",
    "      console.log(line);\n",
    "    }\n",
    "  }\n",
    "}"
   ]
  },
  {
   "cell_type": "code",
   "execution_count": 15,
   "id": "b35d8f0b-81ba-472d-b18f-8f0e14edaa7e",
   "metadata": {},
   "outputs": [],
   "source": [
    "// Display the values as a 2-D grid. Input: sudoku in dictionary form\n",
    "function displayFull(values) {\n",
    "  const width = 1 + Math.max(...boxes.map(s => values[s].length));\n",
    "  const line = Array.from({ length: 3 }, () => '-'.repeat(width * 3)).join('+');\n",
    "  for (let r of rows) {\n",
    "    let rowOutput = '';\n",
    "    for (let c of cols) {\n",
    "      rowOutput += values[r + c].padStart(width, ' ') + (c === '3' || c === '6' ? '|' : '');\n",
    "    }\n",
    "    console.log(rowOutput);\n",
    "    if (r === 'C' || r === 'F') {\n",
    "      console.log(line);\n",
    "    }\n",
    "  }\n",
    "}"
   ]
  },
  {
   "cell_type": "code",
   "execution_count": 16,
   "id": "38046124-8567-4679-bba2-e4ef092d13ff",
   "metadata": {},
   "outputs": [],
   "source": [
    "// ---- Solving Algorithms ----"
   ]
  },
  {
   "cell_type": "code",
   "execution_count": 17,
   "id": "d81da9a6-1678-4036-a9b4-b3754ab80b15",
   "metadata": {},
   "outputs": [],
   "source": [
    "// Elimination strategy\n",
    "// The eliminate() function will search boxes with a single digit and\n",
    "// eliminate that digit from its peers.\n",
    "function eliminate(values) {\n",
    "  for (let box of Object.keys(values)) {\n",
    "    if (values[box].length === 1) {\n",
    "      const eliminationValue = values[box];\n",
    "      for (let peer of peers[box]) {\n",
    "        values[peer] = values[peer].replace(eliminationValue, '');\n",
    "      }\n",
    "    }\n",
    "  }\n",
    "  return values;\n",
    "}"
   ]
  },
  {
   "cell_type": "code",
   "execution_count": 18,
   "id": "9794c2ef-77fd-4569-895d-cb14316996a7",
   "metadata": {},
   "outputs": [],
   "source": [
    "// Only choice strategy\n",
    "// The function will go through all the units, and if there is a unit with a\n",
    "// digit that only fits in one possible box, it will assign that digit to that\n",
    "// box.\n",
    "function onlyChoice(values) {\n",
    "  for (let unit of unitlist) {\n",
    "    for (let digit of '123456789') {\n",
    "      const dplaces = unit.filter(box => values[box].includes(digit));\n",
    "      if (dplaces.length === 1) {\n",
    "        values[dplaces[0]] = digit;\n",
    "      }\n",
    "    }\n",
    "  }\n",
    "  return values;\n",
    "}"
   ]
  },
  {
   "cell_type": "code",
   "execution_count": 19,
   "id": "ff3065b9-c6a0-4b5e-9dd1-33030735459c",
   "metadata": {},
   "outputs": [],
   "source": [
    "// Reduce puzzle by constraint propagation\n",
    "// Repeatedly apply the eliminate() and only_choice() functions until the puzzle\n",
    "// is solved. This is called 'Constraint Propagation'\n",
    "function reducePuzzle(values) {\n",
    "  let stalled = false;\n",
    "  while (!stalled) {\n",
    "    const solvedValuesBefore = Object.values(values).filter(value => value.length === 1).length;\n",
    "    eliminate(values);\n",
    "    onlyChoice(values);\n",
    "    const solvedValuesAfter = Object.values(values).filter(value => value.length === 1).length;\n",
    "    stalled = solvedValuesBefore === solvedValuesAfter;\n",
    "    // Sanity check for boxes with zero available values\n",
    "    if (Object.values(values).some(value => value.length === 0)) {\n",
    "      return false;\n",
    "    }\n",
    "  }\n",
    "  return values;\n",
    "}"
   ]
  },
  {
   "cell_type": "code",
   "execution_count": 20,
   "id": "d6d83c90-8ba9-48ab-b312-5dc6f0ebd5c6",
   "metadata": {},
   "outputs": [],
   "source": [
    "// ---- Search ----\n",
    "function search(values) {\n",
    "  // First, reduce the puzzle using the previous function\n",
    "  values = reducePuzzle(values);\n",
    "  if (!values) {\n",
    "    return false;\n",
    "  }\n",
    "  if (Object.values(values).every(value => value.length === 1)) {\n",
    "    return values; // Solved!\n",
    "  }\n",
    "  // Using depth-first search and propagation, try all possible values.\n",
    "  // Choose one of the unfilled squares with the fewest possibilities\n",
    "  const [s, n] = Object.entries(values).filter(([s, value]) => value.length > 1).reduce((shortest, [s, value]) => value.length < shortest[1].length ? [s,  value] : shortest);\n",
    "\n",
    "  // Now use recursion to solve each one of the resulting sudokus\n",
    "  for (let value of values[s]) {\n",
    "    const newSudoku = { ...values };  // Make a copy\n",
    "    newSudoku[s] = value;\n",
    "    const attempt = search(newSudoku);\n",
    "    if (attempt) {\n",
    "      return attempt;\n",
    "    }\n",
    "  }\n",
    "}"
   ]
  },
  {
   "cell_type": "code",
   "execution_count": 21,
   "id": "232a35c2-13b2-491a-b2d0-05cfd516620c",
   "metadata": {},
   "outputs": [],
   "source": [
    "// ---- Define Puzzles ----"
   ]
  },
  {
   "cell_type": "code",
   "execution_count": 22,
   "id": "d3e37d24-a5b7-4be3-9053-21402304dbc3",
   "metadata": {},
   "outputs": [],
   "source": [
    "const puzzle_1 = '..3.2.6..9..3.5..1..18.64....81.29..7.......8..67.82....26.95..8..2.3..9..5.1.3..'"
   ]
  },
  {
   "cell_type": "code",
   "execution_count": 23,
   "id": "a7cde3c2-1731-42ff-b14c-ba196d1e2609",
   "metadata": {},
   "outputs": [],
   "source": [
    "const puzzle_2 = '4.....8.5.3..........7......2.....6.....8.4......1.......6.3.7.5..2.....1.4......'"
   ]
  },
  {
   "cell_type": "code",
   "execution_count": 24,
   "id": "51ab36cc-0f27-459e-bf18-31488e6dcba0",
   "metadata": {
    "scrolled": true
   },
   "outputs": [],
   "source": [
    "// Translate the puzzle string into an object mimicking an associative array (Python dict)\n",
    "let puzzle_1_grid = gridValues(puzzle_1);\n",
    "let puzzle_2_grid = gridValues(puzzle_2);"
   ]
  },
  {
   "cell_type": "code",
   "execution_count": 25,
   "id": "84cc838f-0180-40c3-9100-f7e3f2eb7851",
   "metadata": {},
   "outputs": [],
   "source": [
    "// ---- Solving Puzzle 1 ----"
   ]
  },
  {
   "cell_type": "code",
   "execution_count": 26,
   "id": "dbd7dc29-ee32-42e1-a0b3-712e67329166",
   "metadata": {},
   "outputs": [
    {
     "name": "stdout",
     "output_type": "stream",
     "text": [
      ". . 3 |. 2 . |6 . . \n",
      "9 . . |3 . 5 |. . 1 \n",
      ". . 1 |8 . 6 |4 . . \n",
      "------+------+------\n",
      ". . 8 |1 . 2 |9 . . \n",
      "7 . . |. . . |. . 8 \n",
      ". . 6 |7 . 8 |2 . . \n",
      "------+------+------\n",
      ". . 2 |6 . 9 |5 . . \n",
      "8 . . |2 . 3 |. . 9 \n",
      ". . 5 |. 1 . |3 . . \n"
     ]
    }
   ],
   "source": [
    "displayDot(puzzle_1_grid);"
   ]
  },
  {
   "cell_type": "code",
   "execution_count": 27,
   "id": "a15d2ff4-8709-4fbd-8ba6-be86349be7b9",
   "metadata": {},
   "outputs": [
    {
     "name": "stdout",
     "output_type": "stream",
     "text": [
      " 123456789 123456789         3| 123456789         2 123456789|         6 123456789 123456789\n",
      "         9 123456789 123456789|         3 123456789         5| 123456789 123456789         1\n",
      " 123456789 123456789         1|         8 123456789         6|         4 123456789 123456789\n",
      "------------------------------+------------------------------+------------------------------\n",
      " 123456789 123456789         8|         1 123456789         2|         9 123456789 123456789\n",
      "         7 123456789 123456789| 123456789 123456789 123456789| 123456789 123456789         8\n",
      " 123456789 123456789         6|         7 123456789         8|         2 123456789 123456789\n",
      "------------------------------+------------------------------+------------------------------\n",
      " 123456789 123456789         2|         6 123456789         9|         5 123456789 123456789\n",
      "         8 123456789 123456789|         2 123456789         3| 123456789 123456789         9\n",
      " 123456789 123456789         5| 123456789         1 123456789|         3 123456789 123456789\n"
     ]
    }
   ],
   "source": [
    "displayFull(puzzle_1_grid);"
   ]
  },
  {
   "cell_type": "code",
   "execution_count": 28,
   "id": "92a2c782-4a48-4df9-9161-6249ed51c466",
   "metadata": {},
   "outputs": [
    {
     "name": "stdout",
     "output_type": "stream",
     "text": [
      " 4 8 3| 9 2 1| 6 5 7\n",
      " 9 6 7| 3 4 5| 8 2 1\n",
      " 2 5 1| 8 7 6| 4 9 3\n",
      "------+------+------\n",
      " 5 4 8| 1 3 2| 9 7 6\n",
      " 7 2 9| 5 6 4| 1 3 8\n",
      " 1 3 6| 7 9 8| 2 4 5\n",
      "------+------+------\n",
      " 3 7 2| 6 8 9| 5 1 4\n",
      " 8 1 4| 2 5 3| 7 6 9\n",
      " 6 9 5| 4 1 7| 3 8 2\n"
     ]
    }
   ],
   "source": [
    "displayFull(search(puzzle_1_grid));"
   ]
  },
  {
   "cell_type": "code",
   "execution_count": 29,
   "id": "0863150e-1d9a-46b4-86b7-fcda9181201c",
   "metadata": {},
   "outputs": [],
   "source": [
    "// ---- Solving Puzzle 2 ----"
   ]
  },
  {
   "cell_type": "code",
   "execution_count": 30,
   "id": "9539ee34-1e49-4c14-bf57-fff2123c4699",
   "metadata": {},
   "outputs": [
    {
     "name": "stdout",
     "output_type": "stream",
     "text": [
      "4 . . |. . . |8 . 5 \n",
      ". 3 . |. . . |. . . \n",
      ". . . |7 . . |. . . \n",
      "------+------+------\n",
      ". 2 . |. . . |. 6 . \n",
      ". . . |. 8 . |4 . . \n",
      ". . . |. 1 . |. . . \n",
      "------+------+------\n",
      ". . . |6 . 3 |. 7 . \n",
      "5 . . |2 . . |. . . \n",
      "1 . 4 |. . . |. . . \n"
     ]
    }
   ],
   "source": [
    "displayDot(puzzle_2_grid);"
   ]
  },
  {
   "cell_type": "code",
   "execution_count": 31,
   "id": "fbbf7e2d-d736-4f44-9121-d872f3be208b",
   "metadata": {},
   "outputs": [
    {
     "name": "stdout",
     "output_type": "stream",
     "text": [
      "         4 123456789 123456789| 123456789 123456789 123456789|         8 123456789         5\n",
      " 123456789         3 123456789| 123456789 123456789 123456789| 123456789 123456789 123456789\n",
      " 123456789 123456789 123456789|         7 123456789 123456789| 123456789 123456789 123456789\n",
      "------------------------------+------------------------------+------------------------------\n",
      " 123456789         2 123456789| 123456789 123456789 123456789| 123456789         6 123456789\n",
      " 123456789 123456789 123456789| 123456789         8 123456789|         4 123456789 123456789\n",
      " 123456789 123456789 123456789| 123456789         1 123456789| 123456789 123456789 123456789\n",
      "------------------------------+------------------------------+------------------------------\n",
      " 123456789 123456789 123456789|         6 123456789         3| 123456789         7 123456789\n",
      "         5 123456789 123456789|         2 123456789 123456789| 123456789 123456789 123456789\n",
      "         1 123456789         4| 123456789 123456789 123456789| 123456789 123456789 123456789\n"
     ]
    }
   ],
   "source": [
    "displayFull(puzzle_2_grid);"
   ]
  },
  {
   "cell_type": "code",
   "execution_count": 33,
   "id": "441fd5d1-6db7-4617-a294-93c09c45dc4b",
   "metadata": {
    "scrolled": true
   },
   "outputs": [
    {
     "name": "stdout",
     "output_type": "stream",
     "text": [
      " 4 1 7| 3 6 9| 8 2 5\n",
      " 6 3 2| 1 5 8| 9 4 7\n",
      " 9 5 8| 7 2 4| 3 1 6\n",
      "------+------+------\n",
      " 8 2 5| 4 3 7| 1 6 9\n",
      " 7 9 1| 5 8 6| 4 3 2\n",
      " 3 4 6| 9 1 2| 7 5 8\n",
      "------+------+------\n",
      " 2 8 9| 6 4 3| 5 7 1\n",
      " 5 7 3| 2 9 1| 6 8 4\n",
      " 1 6 4| 8 7 5| 2 9 3\n"
     ]
    }
   ],
   "source": [
    "displayFull(search(puzzle_2_grid));"
   ]
  },
  {
   "cell_type": "code",
   "execution_count": null,
   "id": "d56efea9-7cb4-466d-860e-cbcc58cd3000",
   "metadata": {},
   "outputs": [],
   "source": []
  }
 ],
 "metadata": {
  "kernelspec": {
   "display_name": "JavaScript (Node.js)",
   "language": "javascript",
   "name": "javascript"
  },
  "language_info": {
   "file_extension": ".js",
   "mimetype": "application/javascript",
   "name": "javascript",
   "version": "20.5.1"
  }
 },
 "nbformat": 4,
 "nbformat_minor": 5
}
